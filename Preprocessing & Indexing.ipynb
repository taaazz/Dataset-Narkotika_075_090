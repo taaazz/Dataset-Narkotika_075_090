{
 "cells": [
  {
   "cell_type": "markdown",
   "metadata": {},
   "source": [
    "**Jasmin Putri Jelita - 202110370311075**\n",
    "\n",
    "**Tazkia Damayanti - 202110370311090**\n",
    "\n",
    "**UTS TEMU KEMBALI INFORMASI**"
   ]
  },
  {
   "cell_type": "code",
   "execution_count": 4,
   "metadata": {},
   "outputs": [],
   "source": [
    "import pandas as pd\n",
    "import numpy as np\n",
    "import os\n",
    "import nltk\n",
    "import re\n",
    "import operator\n",
    "from nltk.tokenize import word_tokenize\n",
    "from nltk import pos_tag\n",
    "from nltk.corpus import stopwords\n",
    "from nltk.stem import WordNetLemmatizer"
   ]
  },
  {
   "cell_type": "code",
   "execution_count": 3,
   "metadata": {},
   "outputs": [
    {
     "data": {
      "text/html": [
       "<div>\n",
       "<style scoped>\n",
       "    .dataframe tbody tr th:only-of-type {\n",
       "        vertical-align: middle;\n",
       "    }\n",
       "\n",
       "    .dataframe tbody tr th {\n",
       "        vertical-align: top;\n",
       "    }\n",
       "\n",
       "    .dataframe thead th {\n",
       "        text-align: right;\n",
       "    }\n",
       "</style>\n",
       "<table border=\"1\" class=\"dataframe\">\n",
       "  <thead>\n",
       "    <tr style=\"text-align: right;\">\n",
       "      <th></th>\n",
       "      <th>nomor</th>\n",
       "      <th>lembaga_peradilan</th>\n",
       "      <th>barang bukti</th>\n",
       "      <th>catatan_amar</th>\n",
       "    </tr>\n",
       "  </thead>\n",
       "  <tbody>\n",
       "    <tr>\n",
       "      <th>0</th>\n",
       "      <td>249/Pid.Sus/2024/PN Mtr</td>\n",
       "      <td>PN MATARAM</td>\n",
       "      <td>: - 1 (satu) bungkus Narkotika jenis Shabu dib...</td>\n",
       "      <td>M E N G A D I L I: Menyatakan Terdakwa Burhanu...</td>\n",
       "    </tr>\n",
       "    <tr>\n",
       "      <th>1</th>\n",
       "      <td>251/Pid.Sus/2024/PN Mtr</td>\n",
       "      <td>PN MATARAM</td>\n",
       "      <td>: 22 (dua puluh dua) bungkus plastik bening ya...</td>\n",
       "      <td>MENGADILI: Menyatakan Terdakwa Mustar Irawan A...</td>\n",
       "    </tr>\n",
       "    <tr>\n",
       "      <th>2</th>\n",
       "      <td>261/Pid.Sus/2024/PN Mtr</td>\n",
       "      <td>PN MATARAM</td>\n",
       "      <td>: 1 (satu) buah plastic klip bening berisi kri...</td>\n",
       "      <td>M E N G A D I L I: Menyatakan Terdakwa Syarifu...</td>\n",
       "    </tr>\n",
       "    <tr>\n",
       "      <th>3</th>\n",
       "      <td>268/Pid.Sus/2024/PN Mtr</td>\n",
       "      <td>PN MATARAM</td>\n",
       "      <td>: 1. 1 (satu) buah wadah berbentuk gelas warna...</td>\n",
       "      <td>M E N G A D I L I: Menyatakan Terdakwa terdakw...</td>\n",
       "    </tr>\n",
       "    <tr>\n",
       "      <th>4</th>\n",
       "      <td>299/Pid.Sus/2024/PN Mtr</td>\n",
       "      <td>PN MATARAM</td>\n",
       "      <td>: - 1 (satu) dompet warna hitam</td>\n",
       "      <td>Menyatakan Terdakwa Sri Hikmawati Binti H. Bah...</td>\n",
       "    </tr>\n",
       "  </tbody>\n",
       "</table>\n",
       "</div>"
      ],
      "text/plain": [
       "                     nomor lembaga_peradilan  \\\n",
       "0  249/Pid.Sus/2024/PN Mtr        PN MATARAM   \n",
       "1  251/Pid.Sus/2024/PN Mtr        PN MATARAM   \n",
       "2  261/Pid.Sus/2024/PN Mtr        PN MATARAM   \n",
       "3  268/Pid.Sus/2024/PN Mtr        PN MATARAM   \n",
       "4  299/Pid.Sus/2024/PN Mtr        PN MATARAM   \n",
       "\n",
       "                                        barang bukti  \\\n",
       "0  : - 1 (satu) bungkus Narkotika jenis Shabu dib...   \n",
       "1  : 22 (dua puluh dua) bungkus plastik bening ya...   \n",
       "2  : 1 (satu) buah plastic klip bening berisi kri...   \n",
       "3  : 1. 1 (satu) buah wadah berbentuk gelas warna...   \n",
       "4                    : - 1 (satu) dompet warna hitam   \n",
       "\n",
       "                                        catatan_amar  \n",
       "0  M E N G A D I L I: Menyatakan Terdakwa Burhanu...  \n",
       "1  MENGADILI: Menyatakan Terdakwa Mustar Irawan A...  \n",
       "2  M E N G A D I L I: Menyatakan Terdakwa Syarifu...  \n",
       "3  M E N G A D I L I: Menyatakan Terdakwa terdakw...  \n",
       "4  Menyatakan Terdakwa Sri Hikmawati Binti H. Bah...  "
      ]
     },
     "execution_count": 3,
     "metadata": {},
     "output_type": "execute_result"
    }
   ],
   "source": [
    "df = pd.read_excel('D:\\College\\Semester 7\\Temu Kembali Informasi (TKI)\\Dataset-Narkotika_075_090\\Overview\\Overview.xlsx')\n",
    "df.head(5)"
   ]
  },
  {
   "cell_type": "markdown",
   "metadata": {},
   "source": [
    "# EDA (Exploratory Data Analysis)"
   ]
  },
  {
   "cell_type": "code",
   "execution_count": 6,
   "metadata": {},
   "outputs": [
    {
     "name": "stdout",
     "output_type": "stream",
     "text": [
      "<class 'pandas.core.frame.DataFrame'>\n",
      "RangeIndex: 50 entries, 0 to 49\n",
      "Data columns (total 4 columns):\n",
      " #   Column             Non-Null Count  Dtype \n",
      "---  ------             --------------  ----- \n",
      " 0   nomor              50 non-null     object\n",
      " 1   lembaga_peradilan  50 non-null     object\n",
      " 2   barang bukti       50 non-null     object\n",
      " 3   catatan_amar       50 non-null     object\n",
      "dtypes: object(4)\n",
      "memory usage: 1.7+ KB\n"
     ]
    }
   ],
   "source": [
    "df.info()"
   ]
  },
  {
   "cell_type": "code",
   "execution_count": 8,
   "metadata": {},
   "outputs": [
    {
     "data": {
      "text/plain": [
       "nomor                0\n",
       "lembaga_peradilan    0\n",
       "barang bukti         0\n",
       "catatan_amar         0\n",
       "dtype: int64"
      ]
     },
     "execution_count": 8,
     "metadata": {},
     "output_type": "execute_result"
    }
   ],
   "source": [
    "df.isnull().sum()"
   ]
  },
  {
   "cell_type": "markdown",
   "metadata": {},
   "source": [
    "# Pre-processing"
   ]
  },
  {
   "cell_type": "code",
   "execution_count": null,
   "metadata": {},
   "outputs": [],
   "source": [
    "def data_cleaning(text):\n",
    "    text = re.sub(r'[^\\w\\s]', '', text)  # Menghapus tanda baca menggunakan ekspresi reguler\n",
    "    text = text.replace('_', '')  # Menghapus underscore\n",
    "    text = text.replace('m e n g a d i l i', 'mengadili')\n",
    "    text = text.replace('M E N G A D I L I', 'mengadili')\n",
    "    return text.lower()\n",
    "\n",
    "df['Barang_Bukti'] = df['Barang_Bukti'].apply(data_cleaning)\n",
    "df['catatan_amar'] = df['catatan_amar'].apply(data_cleaning)"
   ]
  }
 ],
 "metadata": {
  "kernelspec": {
   "display_name": "Python 3",
   "language": "python",
   "name": "python3"
  },
  "language_info": {
   "codemirror_mode": {
    "name": "ipython",
    "version": 3
   },
   "file_extension": ".py",
   "mimetype": "text/x-python",
   "name": "python",
   "nbconvert_exporter": "python",
   "pygments_lexer": "ipython3",
   "version": "3.10.0"
  }
 },
 "nbformat": 4,
 "nbformat_minor": 2
}
