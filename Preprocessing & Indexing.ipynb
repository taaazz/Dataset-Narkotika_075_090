{
 "cells": [
  {
   "cell_type": "markdown",
   "metadata": {},
   "source": [
    "**Jasmin Putri Jelita - 202110370311075**\n",
    "\n",
    "**Tazkia Damayanti - 202110370311090**\n",
    "\n",
    "**UTS TEMU KEMBALI INFORMASI**"
   ]
  },
  {
   "cell_type": "code",
   "execution_count": 4,
   "metadata": {},
   "outputs": [],
   "source": [
    "import pandas as pd\n",
    "import numpy as np\n",
    "import os\n",
    "import nltk\n",
    "import re\n",
    "import operator\n",
    "from nltk.tokenize import word_tokenize\n",
    "from nltk import pos_tag\n",
    "from nltk.corpus import stopwords\n",
    "from nltk.stem import WordNetLemmatizer"
   ]
  },
  {
   "cell_type": "code",
   "execution_count": 15,
   "metadata": {},
   "outputs": [
    {
     "data": {
      "text/html": [
       "<div>\n",
       "<style scoped>\n",
       "    .dataframe tbody tr th:only-of-type {\n",
       "        vertical-align: middle;\n",
       "    }\n",
       "\n",
       "    .dataframe tbody tr th {\n",
       "        vertical-align: top;\n",
       "    }\n",
       "\n",
       "    .dataframe thead th {\n",
       "        text-align: right;\n",
       "    }\n",
       "</style>\n",
       "<table border=\"1\" class=\"dataframe\">\n",
       "  <thead>\n",
       "    <tr style=\"text-align: right;\">\n",
       "      <th></th>\n",
       "      <th>No Putusan</th>\n",
       "      <th>Lembaga Peradilan</th>\n",
       "      <th>Barang Bukti</th>\n",
       "      <th>Amar Putusan</th>\n",
       "    </tr>\n",
       "  </thead>\n",
       "  <tbody>\n",
       "    <tr>\n",
       "      <th>0</th>\n",
       "      <td>249/Pid.Sus/2024/PN Mtr</td>\n",
       "      <td>PN MATARAM</td>\n",
       "      <td>: - 1 (satu) bungkus Narkotika jenis Shabu dib...</td>\n",
       "      <td>M E N G A D I L I: Menyatakan Terdakwa Burhanu...</td>\n",
       "    </tr>\n",
       "    <tr>\n",
       "      <th>1</th>\n",
       "      <td>251/Pid.Sus/2024/PN Mtr</td>\n",
       "      <td>PN MATARAM</td>\n",
       "      <td>: 22 (dua puluh dua) bungkus plastik bening ya...</td>\n",
       "      <td>MENGADILI: Menyatakan Terdakwa Mustar Irawan A...</td>\n",
       "    </tr>\n",
       "    <tr>\n",
       "      <th>2</th>\n",
       "      <td>261/Pid.Sus/2024/PN Mtr</td>\n",
       "      <td>PN MATARAM</td>\n",
       "      <td>: 1 (satu) buah plastic klip bening berisi kri...</td>\n",
       "      <td>M E N G A D I L I: Menyatakan Terdakwa Syarifu...</td>\n",
       "    </tr>\n",
       "    <tr>\n",
       "      <th>3</th>\n",
       "      <td>268/Pid.Sus/2024/PN Mtr</td>\n",
       "      <td>PN MATARAM</td>\n",
       "      <td>: 1. 1 (satu) buah wadah berbentuk gelas warna...</td>\n",
       "      <td>M E N G A D I L I: Menyatakan Terdakwa terdakw...</td>\n",
       "    </tr>\n",
       "    <tr>\n",
       "      <th>4</th>\n",
       "      <td>299/Pid.Sus/2024/PN Mtr</td>\n",
       "      <td>PN MATARAM</td>\n",
       "      <td>: - 1 (satu) dompet warna hitam</td>\n",
       "      <td>Menyatakan Terdakwa Sri Hikmawati Binti H. Bah...</td>\n",
       "    </tr>\n",
       "  </tbody>\n",
       "</table>\n",
       "</div>"
      ],
      "text/plain": [
       "                No Putusan Lembaga Peradilan  \\\n",
       "0  249/Pid.Sus/2024/PN Mtr        PN MATARAM   \n",
       "1  251/Pid.Sus/2024/PN Mtr        PN MATARAM   \n",
       "2  261/Pid.Sus/2024/PN Mtr        PN MATARAM   \n",
       "3  268/Pid.Sus/2024/PN Mtr        PN MATARAM   \n",
       "4  299/Pid.Sus/2024/PN Mtr        PN MATARAM   \n",
       "\n",
       "                                        Barang Bukti  \\\n",
       "0  : - 1 (satu) bungkus Narkotika jenis Shabu dib...   \n",
       "1  : 22 (dua puluh dua) bungkus plastik bening ya...   \n",
       "2  : 1 (satu) buah plastic klip bening berisi kri...   \n",
       "3  : 1. 1 (satu) buah wadah berbentuk gelas warna...   \n",
       "4                    : - 1 (satu) dompet warna hitam   \n",
       "\n",
       "                                        Amar Putusan  \n",
       "0  M E N G A D I L I: Menyatakan Terdakwa Burhanu...  \n",
       "1  MENGADILI: Menyatakan Terdakwa Mustar Irawan A...  \n",
       "2  M E N G A D I L I: Menyatakan Terdakwa Syarifu...  \n",
       "3  M E N G A D I L I: Menyatakan Terdakwa terdakw...  \n",
       "4  Menyatakan Terdakwa Sri Hikmawati Binti H. Bah...  "
      ]
     },
     "execution_count": 15,
     "metadata": {},
     "output_type": "execute_result"
    }
   ],
   "source": [
    "df = pd.read_excel('D:\\College\\Semester 7\\Temu Kembali Informasi (TKI)\\Dataset-Narkotika_075_090\\Overview\\Overview.xlsx')\n",
    "df.head(5)"
   ]
  },
  {
   "cell_type": "markdown",
   "metadata": {},
   "source": [
    "# EDA (Exploratory Data Analysis)"
   ]
  },
  {
   "cell_type": "code",
   "execution_count": 16,
   "metadata": {},
   "outputs": [
    {
     "name": "stdout",
     "output_type": "stream",
     "text": [
      "<class 'pandas.core.frame.DataFrame'>\n",
      "RangeIndex: 50 entries, 0 to 49\n",
      "Data columns (total 4 columns):\n",
      " #   Column             Non-Null Count  Dtype \n",
      "---  ------             --------------  ----- \n",
      " 0   No Putusan         50 non-null     object\n",
      " 1   Lembaga Peradilan  50 non-null     object\n",
      " 2   Barang Bukti       50 non-null     object\n",
      " 3   Amar Putusan       50 non-null     object\n",
      "dtypes: object(4)\n",
      "memory usage: 1.7+ KB\n"
     ]
    }
   ],
   "source": [
    "df.info()"
   ]
  },
  {
   "cell_type": "code",
   "execution_count": 17,
   "metadata": {},
   "outputs": [
    {
     "data": {
      "text/plain": [
       "No Putusan           0\n",
       "Lembaga Peradilan    0\n",
       "Barang Bukti         0\n",
       "Amar Putusan         0\n",
       "dtype: int64"
      ]
     },
     "execution_count": 17,
     "metadata": {},
     "output_type": "execute_result"
    }
   ],
   "source": [
    "df.isnull().sum()"
   ]
  },
  {
   "cell_type": "markdown",
   "metadata": {},
   "source": [
    "# Pre-processing"
   ]
  },
  {
   "cell_type": "code",
   "execution_count": 18,
   "metadata": {},
   "outputs": [
    {
     "data": {
      "text/html": [
       "<div>\n",
       "<style scoped>\n",
       "    .dataframe tbody tr th:only-of-type {\n",
       "        vertical-align: middle;\n",
       "    }\n",
       "\n",
       "    .dataframe tbody tr th {\n",
       "        vertical-align: top;\n",
       "    }\n",
       "\n",
       "    .dataframe thead th {\n",
       "        text-align: right;\n",
       "    }\n",
       "</style>\n",
       "<table border=\"1\" class=\"dataframe\">\n",
       "  <thead>\n",
       "    <tr style=\"text-align: right;\">\n",
       "      <th></th>\n",
       "      <th>No Putusan</th>\n",
       "      <th>Lembaga Peradilan</th>\n",
       "      <th>Barang Bukti</th>\n",
       "      <th>Amar Putusan</th>\n",
       "    </tr>\n",
       "  </thead>\n",
       "  <tbody>\n",
       "    <tr>\n",
       "      <th>0</th>\n",
       "      <td>249/Pid.Sus/2024/PN Mtr</td>\n",
       "      <td>PN MATARAM</td>\n",
       "      <td>1 satu bungkus narkotika jenis shabu dibungk...</td>\n",
       "      <td>mengadili menyatakan terdakwa burhanudin alias...</td>\n",
       "    </tr>\n",
       "    <tr>\n",
       "      <th>1</th>\n",
       "      <td>251/Pid.Sus/2024/PN Mtr</td>\n",
       "      <td>PN MATARAM</td>\n",
       "      <td>22 dua puluh dua bungkus plastik bening yang ...</td>\n",
       "      <td>mengadili menyatakan terdakwa mustar irawan al...</td>\n",
       "    </tr>\n",
       "    <tr>\n",
       "      <th>2</th>\n",
       "      <td>261/Pid.Sus/2024/PN Mtr</td>\n",
       "      <td>PN MATARAM</td>\n",
       "      <td>1 satu buah plastic klip bening berisi krista...</td>\n",
       "      <td>mengadili menyatakan terdakwa syarifudin telah...</td>\n",
       "    </tr>\n",
       "    <tr>\n",
       "      <th>3</th>\n",
       "      <td>268/Pid.Sus/2024/PN Mtr</td>\n",
       "      <td>PN MATARAM</td>\n",
       "      <td>1 1 satu buah wadah berbentuk gelas warna hit...</td>\n",
       "      <td>mengadili menyatakan terdakwa terdakwa i muham...</td>\n",
       "    </tr>\n",
       "    <tr>\n",
       "      <th>4</th>\n",
       "      <td>299/Pid.Sus/2024/PN Mtr</td>\n",
       "      <td>PN MATARAM</td>\n",
       "      <td>1 satu dompet warna hitam</td>\n",
       "      <td>menyatakan terdakwa sri hikmawati binti h bahr...</td>\n",
       "    </tr>\n",
       "  </tbody>\n",
       "</table>\n",
       "</div>"
      ],
      "text/plain": [
       "                No Putusan Lembaga Peradilan  \\\n",
       "0  249/Pid.Sus/2024/PN Mtr        PN MATARAM   \n",
       "1  251/Pid.Sus/2024/PN Mtr        PN MATARAM   \n",
       "2  261/Pid.Sus/2024/PN Mtr        PN MATARAM   \n",
       "3  268/Pid.Sus/2024/PN Mtr        PN MATARAM   \n",
       "4  299/Pid.Sus/2024/PN Mtr        PN MATARAM   \n",
       "\n",
       "                                        Barang Bukti  \\\n",
       "0    1 satu bungkus narkotika jenis shabu dibungk...   \n",
       "1   22 dua puluh dua bungkus plastik bening yang ...   \n",
       "2   1 satu buah plastic klip bening berisi krista...   \n",
       "3   1 1 satu buah wadah berbentuk gelas warna hit...   \n",
       "4                          1 satu dompet warna hitam   \n",
       "\n",
       "                                        Amar Putusan  \n",
       "0  mengadili menyatakan terdakwa burhanudin alias...  \n",
       "1  mengadili menyatakan terdakwa mustar irawan al...  \n",
       "2  mengadili menyatakan terdakwa syarifudin telah...  \n",
       "3  mengadili menyatakan terdakwa terdakwa i muham...  \n",
       "4  menyatakan terdakwa sri hikmawati binti h bahr...  "
      ]
     },
     "execution_count": 18,
     "metadata": {},
     "output_type": "execute_result"
    }
   ],
   "source": [
    "def data_cleaning(text):\n",
    "    text = re.sub(r'[^\\w\\s]', '', text)  # Menghapus tanda baca menggunakan ekspresi reguler\n",
    "    text = text.replace('_', '')  # Menghapus underscore\n",
    "    text = text.replace('m e n g a d i l i', 'mengadili')\n",
    "    text = text.replace('M E N G A D I L I', 'mengadili')\n",
    "    return text.lower()\n",
    "\n",
    "df['Barang Bukti'] = df['Barang Bukti'].apply(data_cleaning)\n",
    "df['Amar Putusan'] = df['Amar Putusan'].apply(data_cleaning)\n",
    "df.head()"
   ]
  },
  {
   "cell_type": "code",
   "execution_count": 19,
   "metadata": {},
   "outputs": [
    {
     "data": {
      "text/html": [
       "<div>\n",
       "<style scoped>\n",
       "    .dataframe tbody tr th:only-of-type {\n",
       "        vertical-align: middle;\n",
       "    }\n",
       "\n",
       "    .dataframe tbody tr th {\n",
       "        vertical-align: top;\n",
       "    }\n",
       "\n",
       "    .dataframe thead th {\n",
       "        text-align: right;\n",
       "    }\n",
       "</style>\n",
       "<table border=\"1\" class=\"dataframe\">\n",
       "  <thead>\n",
       "    <tr style=\"text-align: right;\">\n",
       "      <th></th>\n",
       "      <th>No Putusan</th>\n",
       "      <th>Lembaga Peradilan</th>\n",
       "      <th>Barang Bukti</th>\n",
       "      <th>Amar Putusan</th>\n",
       "      <th>data_baru</th>\n",
       "    </tr>\n",
       "  </thead>\n",
       "  <tbody>\n",
       "    <tr>\n",
       "      <th>0</th>\n",
       "      <td>249/Pid.Sus/2024/PN Mtr</td>\n",
       "      <td>PN MATARAM</td>\n",
       "      <td>1 satu bungkus narkotika jenis shabu dibungk...</td>\n",
       "      <td>mengadili menyatakan terdakwa burhanudin alias...</td>\n",
       "      <td>1 satu bungkus narkotika jenis shabu dibungk...</td>\n",
       "    </tr>\n",
       "    <tr>\n",
       "      <th>1</th>\n",
       "      <td>251/Pid.Sus/2024/PN Mtr</td>\n",
       "      <td>PN MATARAM</td>\n",
       "      <td>22 dua puluh dua bungkus plastik bening yang ...</td>\n",
       "      <td>mengadili menyatakan terdakwa mustar irawan al...</td>\n",
       "      <td>22 dua puluh dua bungkus plastik bening yang ...</td>\n",
       "    </tr>\n",
       "    <tr>\n",
       "      <th>2</th>\n",
       "      <td>261/Pid.Sus/2024/PN Mtr</td>\n",
       "      <td>PN MATARAM</td>\n",
       "      <td>1 satu buah plastic klip bening berisi krista...</td>\n",
       "      <td>mengadili menyatakan terdakwa syarifudin telah...</td>\n",
       "      <td>1 satu buah plastic klip bening berisi krista...</td>\n",
       "    </tr>\n",
       "    <tr>\n",
       "      <th>3</th>\n",
       "      <td>268/Pid.Sus/2024/PN Mtr</td>\n",
       "      <td>PN MATARAM</td>\n",
       "      <td>1 1 satu buah wadah berbentuk gelas warna hit...</td>\n",
       "      <td>mengadili menyatakan terdakwa terdakwa i muham...</td>\n",
       "      <td>1 1 satu buah wadah berbentuk gelas warna hit...</td>\n",
       "    </tr>\n",
       "    <tr>\n",
       "      <th>4</th>\n",
       "      <td>299/Pid.Sus/2024/PN Mtr</td>\n",
       "      <td>PN MATARAM</td>\n",
       "      <td>1 satu dompet warna hitam</td>\n",
       "      <td>menyatakan terdakwa sri hikmawati binti h bahr...</td>\n",
       "      <td>1 satu dompet warna hitam menyatakan terdakw...</td>\n",
       "    </tr>\n",
       "  </tbody>\n",
       "</table>\n",
       "</div>"
      ],
      "text/plain": [
       "                No Putusan Lembaga Peradilan  \\\n",
       "0  249/Pid.Sus/2024/PN Mtr        PN MATARAM   \n",
       "1  251/Pid.Sus/2024/PN Mtr        PN MATARAM   \n",
       "2  261/Pid.Sus/2024/PN Mtr        PN MATARAM   \n",
       "3  268/Pid.Sus/2024/PN Mtr        PN MATARAM   \n",
       "4  299/Pid.Sus/2024/PN Mtr        PN MATARAM   \n",
       "\n",
       "                                        Barang Bukti  \\\n",
       "0    1 satu bungkus narkotika jenis shabu dibungk...   \n",
       "1   22 dua puluh dua bungkus plastik bening yang ...   \n",
       "2   1 satu buah plastic klip bening berisi krista...   \n",
       "3   1 1 satu buah wadah berbentuk gelas warna hit...   \n",
       "4                          1 satu dompet warna hitam   \n",
       "\n",
       "                                        Amar Putusan  \\\n",
       "0  mengadili menyatakan terdakwa burhanudin alias...   \n",
       "1  mengadili menyatakan terdakwa mustar irawan al...   \n",
       "2  mengadili menyatakan terdakwa syarifudin telah...   \n",
       "3  mengadili menyatakan terdakwa terdakwa i muham...   \n",
       "4  menyatakan terdakwa sri hikmawati binti h bahr...   \n",
       "\n",
       "                                           data_baru  \n",
       "0    1 satu bungkus narkotika jenis shabu dibungk...  \n",
       "1   22 dua puluh dua bungkus plastik bening yang ...  \n",
       "2   1 satu buah plastic klip bening berisi krista...  \n",
       "3   1 1 satu buah wadah berbentuk gelas warna hit...  \n",
       "4    1 satu dompet warna hitam menyatakan terdakw...  "
      ]
     },
     "execution_count": 19,
     "metadata": {},
     "output_type": "execute_result"
    }
   ],
   "source": [
    "df['data_baru'] = df['Barang Bukti'] + ' ' + df['Amar Putusan']\n",
    "df.head()"
   ]
  }
 ],
 "metadata": {
  "kernelspec": {
   "display_name": "Python 3",
   "language": "python",
   "name": "python3"
  },
  "language_info": {
   "codemirror_mode": {
    "name": "ipython",
    "version": 3
   },
   "file_extension": ".py",
   "mimetype": "text/x-python",
   "name": "python",
   "nbconvert_exporter": "python",
   "pygments_lexer": "ipython3",
   "version": "3.10.0"
  }
 },
 "nbformat": 4,
 "nbformat_minor": 2
}
