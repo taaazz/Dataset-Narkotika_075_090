{
 "cells": [
  {
   "cell_type": "markdown",
   "metadata": {},
   "source": [
    "**Jasmin Putri Jelita - 202110370311075**\n",
    "\n",
    "**Tazkia Damayanti - 202110370311090**\n",
    "\n",
    "**UAS TEMU KEMBALI INFORMASI**"
   ]
  },
  {
   "cell_type": "code",
   "execution_count": null,
   "metadata": {},
   "outputs": [],
   "source": []
  }
 ],
 "metadata": {
  "language_info": {
   "name": "python"
  }
 },
 "nbformat": 4,
 "nbformat_minor": 2
}
