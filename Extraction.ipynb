{
 "cells": [
  {
   "cell_type": "markdown",
   "metadata": {},
   "source": [
    "**Jasmin Putri Jelita - 202110370311075**\n",
    "\n",
    "**Tazkia Damayanti - 202110370311090**\n",
    "\n",
    "**UAS TEMU KEMBALI INFORMASI**"
   ]
  },
  {
   "cell_type": "code",
   "execution_count": 32,
   "metadata": {},
   "outputs": [],
   "source": [
    "import os\n",
    "import re\n",
    "import json\n",
    "import pandas as pd"
   ]
  },
  {
   "cell_type": "code",
   "execution_count": 7,
   "metadata": {},
   "outputs": [],
   "source": [
    "# Load keywords from a file\n",
    "def load_keywords_from_file(file_path):\n",
    "    with open(file_path, 'r', encoding='utf-8') as file:\n",
    "        keywords = json.load(file)\n",
    "    return keywords\n",
    "\n",
    "# Extract \"No Putusan\"\n",
    "def extract_no_putusan(content):\n",
    "    pattern = r\"(Nomor\\s*[:\\-]?\\s*\\d+/[A-Za-z.]+/\\d+/[A-Za-z\\s\\-]{1,7})\"\n",
    "    match = re.search(pattern, content)\n",
    "    return match.group(1) if match else None\n",
    "\n",
    "# Extract \"Lembaga Peradilan\"\n",
    "def extract_lembaga_peradilan(content):\n",
    "    pattern = r\"(Pengadilan\\s*(Negeri|Agama|Tinggi)(\\s*di)?\\s*\\w+)(?!\\w)\"\n",
    "    match = re.search(pattern, content)\n",
    "    return match.group(1) if match else None\n",
    "\n",
    "# Extract data from content using keywords\n",
    "def extract_data_from_content(content, keywords):\n",
    "    extracted_texts = []\n",
    "    extracted_ranges = []\n",
    "\n",
    "    for keyword in keywords:\n",
    "        pattern = re.escape(keyword)\n",
    "        match = re.search(pattern, content, re.IGNORECASE)\n",
    "\n",
    "        if match:\n",
    "            start_index = match.start()\n",
    "            end_index = content.find('\\n\\n', start_index)\n",
    "            end_index = end_index if end_index != -1 else len(content)\n",
    "\n",
    "            overlaps = any(start <= start_index <= end or start <= end_index <= end for start, end in extracted_ranges)\n",
    "            if overlaps:\n",
    "                continue\n",
    "\n",
    "            extracted_paragraph = content[start_index:end_index].strip()\n",
    "\n",
    "            while extracted_paragraph.count('.') < 5:\n",
    "                additional_end_index = content.find('\\n\\n', end_index + 2)\n",
    "                additional_end_index = additional_end_index if additional_end_index != -1 else len(content)\n",
    "                extracted_paragraph += content[end_index:additional_end_index].strip()\n",
    "                end_index = additional_end_index\n",
    "\n",
    "            extracted_texts.append(extracted_paragraph)\n",
    "            extracted_ranges.append((start_index, end_index))\n",
    "\n",
    "    consolidated_text = \"\\n\\n\".join(extracted_texts)\n",
    "    return consolidated_text if consolidated_text else None"
   ]
  },
  {
   "cell_type": "code",
   "execution_count": 8,
   "metadata": {},
   "outputs": [],
   "source": [
    "# Extract data from a file\n",
    "def extract_data_from_file(file_path):\n",
    "    with open(file_path, 'r', encoding='utf-8') as file:\n",
    "        content = file.read()\n",
    "\n",
    "    extracted_data = {category: None for category in KEYWORDS.keys()}\n",
    "\n",
    "    # Ekstraksi data wajib\n",
    "    extracted_data[\"No Putusan\"] = extract_no_putusan(content) or \"Data tidak ditemukan\"\n",
    "    extracted_data[\"Lembaga Peradilan\"] = extract_lembaga_peradilan(content) or \"Data tidak ditemukan\"\n",
    "    extracted_data[\"Barang Bukti\"] = extract_data_from_content(content, KEYWORDS.get(\"Barang Bukti\", [])) or \"Data tidak ditemukan\"\n",
    "    extracted_data[\"Amar Putusan\"] = extract_data_from_content(content, KEYWORDS.get(\"Amar Putusan\", [])) or \"Data tidak ditemukan\"\n",
    "\n",
    "    # Ekstraksi data lainnya\n",
    "    for category, keywords in KEYWORDS.items():\n",
    "        if category not in [\"No Putusan\", \"Lembaga Peradilan\", \"Barang Bukti\", \"Amar Putusan\"]:\n",
    "            extracted_data[category] = extract_data_from_content(content, keywords) or \"Data tidak ditemukan\"\n",
    "\n",
    "    return extracted_data"
   ]
  },
  {
   "cell_type": "code",
   "execution_count": 34,
   "metadata": {},
   "outputs": [],
   "source": [
    "def clean_illegal_characters(data):\n",
    "    cleaned_data = {k: re.sub(r'[\\x00-\\x1F\\x7F]', ' ', v) if v else v for k, v in data.items()}\n",
    "    return cleaned_data\n",
    "\n",
    "def save_to_excel(data, output_file):\n",
    "    cleaned_data = {filename: clean_illegal_characters(file_data) for filename, file_data in data.items()}\n",
    "    df = pd.DataFrame(cleaned_data).transpose()\n",
    "    df = df.fillna(\"False\")\n",
    "    df.to_excel(output_file, index_label=\"File Name\")\n",
    "\n",
    "def read_and_extract_data(output_file):\n",
    "    base_folder = os.path.join(os.getcwd(), \"txt_putusan_UAS\")  # Subfolder dari root direktori\n",
    "    all_extracted_data = {}\n",
    "    for file_name in os.listdir(base_folder):\n",
    "        if file_name.endswith('.txt'):\n",
    "            file_path = os.path.join(base_folder, file_name)\n",
    "            all_extracted_data[file_name] = extract_data_from_file(file_path)\n",
    "\n",
    "    save_to_excel(all_extracted_data, output_file)"
   ]
  },
  {
   "cell_type": "code",
   "execution_count": 36,
   "metadata": {},
   "outputs": [
    {
     "name": "stdout",
     "output_type": "stream",
     "text": [
      "Data telah diekstraksi dan disimpan ke Data.xlsx.\n"
     ]
    }
   ],
   "source": [
    "if __name__ == \"__main__\":\n",
    "    keywords_file_path = \"keywords.txt\"\n",
    "    output_file = \"Data.xlsx\"\n",
    "\n",
    "    KEYWORDS = load_keywords_from_file(keywords_file_path)\n",
    "\n",
    "    if not KEYWORDS:\n",
    "        print(\"Kata kunci tidak dapat dimuat. Periksa file keywords.txt\")\n",
    "    else:\n",
    "        read_and_extract_data(output_file)\n",
    "        print(f\"Data telah diekstraksi dan disimpan ke {output_file}.\")"
   ]
  }
 ],
 "metadata": {
  "kernelspec": {
   "display_name": "Python 3",
   "language": "python",
   "name": "python3"
  },
  "language_info": {
   "codemirror_mode": {
    "name": "ipython",
    "version": 3
   },
   "file_extension": ".py",
   "mimetype": "text/x-python",
   "name": "python",
   "nbconvert_exporter": "python",
   "pygments_lexer": "ipython3",
   "version": "3.11.9"
  }
 },
 "nbformat": 4,
 "nbformat_minor": 2
}
